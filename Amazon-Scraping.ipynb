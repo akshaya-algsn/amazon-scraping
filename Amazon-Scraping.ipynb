{
 "cells": [
  {
   "cell_type": "code",
   "execution_count": 1,
   "id": "db9b2ccc",
   "metadata": {},
   "outputs": [
    {
     "name": "stdout",
     "output_type": "stream",
     "text": [
      "Error scraping https://www.amazon.cn/dp/B0BSLK378P: 'NoneType' object has no attribute 'text'\n",
      "Error scraping https://www.amazon.en/dp/4299043650: HTTPSConnectionPool(host='www.amazon.en', port=443): Max retries exceeded with url: /dp/4299043650 (Caused by NewConnectionError('<urllib3.connection.HTTPSConnection object at 0x00000247E871F2B0>: Failed to establish a new connection: [Errno 11001] getaddrinfo failed'))\n",
      "Total time taken: 9.134693384170532 seconds\n"
     ]
    }
   ],
   "source": [
    "import csv\n",
    "import json\n",
    "import time\n",
    "from bs4 import BeautifulSoup\n",
    "import requests\n",
    "from selenium import webdriver\n",
    "from selenium.webdriver.chrome.options import Options\n",
    "\n",
    "def scrape_amazon_product(url):\n",
    "    try:\n",
    "        response = requests.get(url)\n",
    "        if response.status_code == 404:\n",
    "            print(f\"{url} not available\")\n",
    "            return None\n",
    "\n",
    "        soup = BeautifulSoup(response.content, 'html.parser')\n",
    "        product_title = soup.find('span', {'id': 'productTitle'}).text.strip()\n",
    "        product_image_url = soup.find('img', {'id': 'landingImage'})['src']\n",
    "        product_price = soup.find('span', {'class': 'a-offscreen'}).text.strip()\n",
    "        product_details = soup.find('div', {'id': 'productDescription'}).text.strip()\n",
    "\n",
    "        product = {\n",
    "            'product_title': product_title,\n",
    "            'product_image_url': product_image_url,\n",
    "            'product_price': product_price,\n",
    "            'product_details': product_details\n",
    "        }\n",
    "        return product\n",
    "    except Exception as e:\n",
    "        print(f\"Error scraping {url}: {str(e)}\")\n",
    "        return None\n",
    "\n",
    "def scrape_amazon_products(csv_file):\n",
    "    start_time = time.time()\n",
    "    products = []\n",
    "\n",
    "    with open(csv_file, 'r') as file:\n",
    "        reader = csv.reader(file)\n",
    "        next(reader)  # Skip the header row\n",
    "\n",
    "        for row in reader:\n",
    "            country_code, asin = row\n",
    "            url = f\"https://www.amazon.{country_code}/dp/{asin}\"\n",
    "            product = scrape_amazon_product(url)\n",
    "            if product:\n",
    "                products.append(product)\n",
    "\n",
    "    end_time = time.time()\n",
    "    total_time = end_time - start_time\n",
    "    print(f\"Total time taken: {total_time} seconds\")\n",
    "\n",
    "    return products\n",
    "\n",
    "csv_file = r\"C:\\Users\\TY735LS\\Downloads\\urls.csv\"\n",
    "products = scrape_amazon_products(csv_file)\n",
    "\n",
    "json_data = json.dumps(products, indent=4)\n",
    "with open('output.json', 'w') as file:\n",
    "    file.write(json_data)\n"
   ]
  },
  {
   "cell_type": "code",
   "execution_count": 2,
   "id": "b64a3f67",
   "metadata": {},
   "outputs": [
    {
     "data": {
      "text/plain": [
       "'[\\n    {\\n        \"product_title\": \"Khooti Tablet Sleeve 7-inch D3 Jute Dark Grey\",\\n        \"product_image_url\": \"https://m.media-amazon.com/images/I/51bl9P64UCL._SY300_SX300_QL70_ML2_.jpg\",\\n        \"product_price\": \"\\\\u20b9299.00\",\\n        \"product_details\": \"Large Capacity:The compartment can accommodate the power cable, adapter etc.New High Quality Material:Using lightweight, Supreme Quality FabricProtection for your Tablet:Comfortable & Softest Protection to your Tablet.Designed for Tablets:It can accommodate upto 7\\\\\" Tablets.Custom Fits:Compatible with all 7\\\\\" Tablets of all brands.AirPort Security Friendly:Increase the speed and efficiency of airport security by using Khooti Tablet Sleeves.\"\\n    }\\n]'"
      ]
     },
     "execution_count": 2,
     "metadata": {},
     "output_type": "execute_result"
    }
   ],
   "source": [
    "json_data"
   ]
  },
  {
   "cell_type": "code",
   "execution_count": null,
   "id": "f0dfabfe",
   "metadata": {},
   "outputs": [],
   "source": [
    "import time\n",
    "from selenium import webdriver\n",
    "from selenium.webdriver.chrome.options import Options\n",
    "from selenium.webdriver.common.by import By\n",
    "\n",
    "def bypass_amazon_captcha(url, captcha_solution):\n",
    "    options = Options()\n",
    "    options.add_argument(\"--headless\")  # Run Chrome in headless mode\n",
    "\n",
    "    driver = webdriver.Chrome(options=options)\n",
    "    driver.get(url)\n",
    "\n",
    "    # Find and solve the captcha\n",
    "    captcha_input = driver.find_element(By.ID, 'captchacharacters')\n",
    "    captcha_input.send_keys(captcha_solution)\n",
    "\n",
    "    submit_button = driver.find_element(By.CSS_SELECTOR, 'input.a-button-input')\n",
    "    submit_button.click()\n",
    "\n",
    "    # Wait for the page to load after submitting the captcha\n",
    "    time.sleep(3)\n",
    "\n",
    "    # Perform further actions on the page if needed\n",
    "\n",
    "    # Close the browser\n",
    "    driver.quit()\n",
    "\n",
    "url = 'https://www.amazon.com/errors/validateCaptcha'\n",
    "captcha_solution = 'Your captcha solution'\n",
    "\n",
    "bypass_amazon_captcha(url, captcha_solution)\n"
   ]
  },
  {
   "cell_type": "code",
   "execution_count": null,
   "id": "62854573",
   "metadata": {},
   "outputs": [],
   "source": []
  }
 ],
 "metadata": {
  "kernelspec": {
   "display_name": "Python 3 (ipykernel)",
   "language": "python",
   "name": "python3"
  },
  "language_info": {
   "codemirror_mode": {
    "name": "ipython",
    "version": 3
   },
   "file_extension": ".py",
   "mimetype": "text/x-python",
   "name": "python",
   "nbconvert_exporter": "python",
   "pygments_lexer": "ipython3",
   "version": "3.9.13"
  }
 },
 "nbformat": 4,
 "nbformat_minor": 5
}
